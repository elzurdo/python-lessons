{
  "nbformat": 4,
  "nbformat_minor": 0,
  "metadata": {
    "colab": {
      "name": "war.ipynb",
      "provenance": [],
      "collapsed_sections": [],
      "toc_visible": true,
      "authorship_tag": "ABX9TyM9s424MmEwtQDL9P2ny6o1",
      "include_colab_link": true
    },
    "kernelspec": {
      "name": "python3",
      "display_name": "Python 3"
    }
  },
  "cells": [
    {
      "cell_type": "markdown",
      "metadata": {
        "id": "view-in-github",
        "colab_type": "text"
      },
      "source": [
        "<a href=\"https://colab.research.google.com/github/elzurdo/python-lessons/blob/master/war.ipynb\" target=\"_parent\"><img src=\"https://colab.research.google.com/assets/colab-badge.svg\" alt=\"Open In Colab\"/></a>"
      ]
    },
    {
      "cell_type": "markdown",
      "metadata": {
        "id": "baXcIIlZdWcV",
        "colab_type": "text"
      },
      "source": [
        "\n",
        "**Make Python ~~Not~~ *With* War**\n",
        "\n",
        "אנו נלמד לקודד [מלחמה](https://he.wikipedia.org/wiki/%D7%9E%D7%9C%D7%97%D7%9E%D7%94_(%D7%9E%D7%A9%D7%97%D7%A7_%D7%A7%D7%9C%D7%A4%D7%99%D7%9D)\n",
        ")  We will learn to code for [War](https://en.wikipedia.org/wiki/War_(card_game))\n",
        "\n",
        "In particular we will learn how to create a deck of cards. Both in a simple way and object oriented.  \n",
        "\n",
        "Once the deck is created, we will generate methods to compare between card values.  \n",
        "\n",
        "With that established we will continue to the final phase of having two agents playing agains each other.  \n",
        "\n",
        "\n",
        "In the first phase both agents will be bots, and in the second a human will be able to play a bot.  \n",
        "\n",
        "Time permitting we might devle also into creating an interactive virtual environment of a game called a GUI (Graphical User Interface). \n",
        "\n",
        "\n",
        "(github placeholder)   \n",
        "[![Open In Colab](https://colab.research.google.com/assets/colab-badge.svg)](https://colab.research.google.com/github/googlecolab/colabtools/blob/master/notebooks/colab-github-demo.ipynb)\n"
      ]
    },
    {
      "cell_type": "markdown",
      "metadata": {
        "id": "-tDCOH0TERBM",
        "colab_type": "text"
      },
      "source": [
        "# This Jupyter Notebook\n",
        "\n",
        "This environment is called a Jupyter notebook, which you can use online, or download to your personal computer. Instructions for that will come at a later time. \n",
        "\n",
        "If you want to learn more about Jupyter notebooks, in general click here for a quick tutorial:    \n",
        "[![Jupyter Tutorial](https://colab.research.google.com/assets/colab-badge.svg)](https://colab.research.google.com/github/fastai/course-v3/blob/master/nbs/dl1/00_notebook_tutorial.ipynb)\n",
        "\n",
        "The best way to go over the material here is to do the excersizes in sequence.  \n",
        "\n",
        "A few functions are introduced which you can learn their usage by going to the *Useful Functions* section.\n",
        "\n",
        "\n"
      ]
    },
    {
      "cell_type": "markdown",
      "metadata": {
        "id": "SGU1s_D3epsq",
        "colab_type": "text"
      },
      "source": [
        "# Deck of Cards\n",
        "\n",
        "Our first course of action is to create a deck of cards.   \n",
        "The deck has 4 sets of 13 cards (by order of rank: 2, 3, ... 10, J, Q, K, A). \n",
        "\n",
        "\n",
        "We will explore two version of creating a deck of cards. We will first start creating a deck as a `list` of `str` values.  \n",
        "\n",
        "We will then make a deck that is a bit more interesting, as a `list` of `Card` objects.\n",
        "\n"
      ]
    },
    {
      "cell_type": "markdown",
      "metadata": {
        "id": "Qf-H7KqcDPls",
        "colab_type": "text"
      },
      "source": [
        "## Deck as `list` of `str`\n",
        "\n",
        "In this section we will make a deck will look like this:  \n",
        "```\n",
        "['2♥', '3♥', '4♥', '5♥', '6♥', '7♥', '8♥', '9♥', '10♥', 'J♥', 'Q♥', 'K♥', 'A♥', '2♣', '3♣', '4♣', '5♣', '6♣', '7♣', '8♣', '9♣', '10♣', 'J♣', 'Q♣', 'K♣', 'A♣', '2♦', '3♦', '4♦', '5♦', '6♦', '7♦', '8♦', '9♦', '10♦', 'J♦', 'Q♦', 'K♦', 'A♦', '2♠', '3♠', '4♠', '5♠', '6♠', '7♠', '8♠', '9♠', '10♠', 'J♠', 'Q♠', 'K♠', 'A♠']f\n",
        "```\n",
        "\n",
        "\n",
        "\n",
        "Let's begin!  \n",
        "\n",
        "How many cards are in the deck?"
      ]
    },
    {
      "cell_type": "code",
      "metadata": {
        "id": "eB00lJlNcuBn",
        "colab_type": "code",
        "colab": {}
      },
      "source": [
        "n_deck = 4 * 13\n",
        "\n",
        "n_deck "
      ],
      "execution_count": 0,
      "outputs": []
    },
    {
      "cell_type": "markdown",
      "metadata": {
        "id": "y3MH1OTMf1Di",
        "colab_type": "text"
      },
      "source": [
        "### Card ranks and suits\n",
        "\n",
        "Each of the four sets has a suit name: heart (♥), club (♣), diamond (♦) and spade (♠).  \n",
        "\n",
        "These actually do not have any effect on the progress of the game, but we will code these for completeness (and to make things look pretty).\n",
        "\n",
        "Let's create the deck where each card has a naming convention:\n",
        "\n",
        "`rank` `suit`, where `rank` parameter values are from the set (`2`, `3`, ... `10`, `J`, `Q`, `K`, `A`) and  `suit` will have values (`h`, `c`, `d`, `s`).\n",
        "\n",
        "E.g, the 4 of Clubs is `4c` and Jack of Hearts is `Jh`.\n",
        "\n",
        "Will will start by defining lists of the ranks and suits.\n"
      ]
    },
    {
      "cell_type": "code",
      "metadata": {
        "id": "c9fvHzqIdSCq",
        "colab_type": "code",
        "colab": {}
      },
      "source": [
        "# long way\n",
        "ranks_long_way = [2, 3, 4, 5, 6, 7, 8, 9, 10, 'J', 'Q', 'K', 'A']\n",
        "\n",
        "# concise (more \"pythonic method\")\n",
        "ranks = list(range(2, 10 + 1)) + ['J', 'Q', 'K', 'A']  \n",
        "\n",
        "print(f'{ranks_long_way} using the long way')\n",
        "print(f'{ranks} using the pythonic way')\n",
        "print(f'Results ins the same {type(ranks)}? {ranks == ranks_long_way}')"
      ],
      "execution_count": 0,
      "outputs": []
    },
    {
      "cell_type": "markdown",
      "metadata": {
        "id": "b3A6eRZ7nM8K",
        "colab_type": "text"
      },
      "source": [
        "Note that above we used a function called `range`. To learn more about its usage jump to the [`range` section](#range_section) below.\n",
        "\n",
        "We should actually correct for one aspect. Not that `ranks` contains both `int` and `str` types. We should probably have them uniform in `str` type. For this purpose we will use the `map` function.\n",
        "\n",
        "(To learn more about `map` refere to the section below)\n",
        "\n"
      ]
    },
    {
      "cell_type": "code",
      "metadata": {
        "id": "yswxm29C0Giy",
        "colab_type": "code",
        "outputId": "b659e616-c2ed-424d-89b8-f1bde73bc693",
        "colab": {
          "base_uri": "https://localhost:8080/",
          "height": 35
        }
      },
      "source": [
        "# for example\n",
        "ranks = list(map(str, range(2, 10 + 1))) + ['J', 'Q', 'K', 'A'] \n",
        "ranks"
      ],
      "execution_count": 0,
      "outputs": [
        {
          "output_type": "execute_result",
          "data": {
            "text/plain": [
              "['2', '3', '4', '5', '6', '7', '8', '9', '10', 'J', 'Q', 'K', 'A']"
            ]
          },
          "metadata": {
            "tags": []
          },
          "execution_count": 102
        }
      ]
    },
    {
      "cell_type": "code",
      "metadata": {
        "id": "xQNDZuzu6xpX",
        "colab_type": "code",
        "colab": {}
      },
      "source": [
        "suits = ['h', 'c', 'd', 's']"
      ],
      "execution_count": 0,
      "outputs": []
    },
    {
      "cell_type": "markdown",
      "metadata": {
        "id": "IlVu5Meh0HY8",
        "colab_type": "text"
      },
      "source": [
        "### Deck Creation\n",
        "\n",
        "We are now ready to create the deck! We will create with two example cards and add to the deck. You task is to then write a script to create the full deck."
      ]
    },
    {
      "cell_type": "code",
      "metadata": {
        "id": "COje6bPtnfJ-",
        "colab_type": "code",
        "outputId": "87c57512-9193-4ea2-edd4-21918f5a3b82",
        "colab": {
          "base_uri": "https://localhost:8080/",
          "height": 35
        }
      },
      "source": [
        "\n",
        "\n",
        "deck = []  # We'll start withe an empty list.\n",
        "\n",
        "# 4 of Clubs\n",
        "card = f'{ranks[2]}{suits[1]}'\n",
        "deck.append(card)\n",
        "\n",
        "# Jack of Hearts\n",
        "card = f'{ranks[-4]}{suits[0]}'\n",
        "deck.append(card)\n",
        "\n",
        "print(f'We have put {len(deck)} cards into the deck: {deck}')"
      ],
      "execution_count": 0,
      "outputs": [
        {
          "output_type": "stream",
          "text": [
            "We have put 2 cards into the deck: ['4c', 'Jh']\n"
          ],
          "name": "stdout"
        }
      ]
    },
    {
      "cell_type": "markdown",
      "metadata": {
        "id": "9Crm2pQbpL4H",
        "colab_type": "text"
      },
      "source": [
        "Doing the above 52 tims is clearly tedious. Can you think of a good way? One suggestion is using `for` loops. "
      ]
    },
    {
      "cell_type": "code",
      "metadata": {
        "id": "nTYD2Rugq4FX",
        "colab_type": "code",
        "colab": {}
      },
      "source": [
        "\"\"\"\n",
        "Add your code here\n",
        "\"\"\"\n",
        "deck = []\n",
        "\n"
      ],
      "execution_count": 0,
      "outputs": []
    },
    {
      "cell_type": "markdown",
      "metadata": {
        "id": "vkmkMsNwyB-0",
        "colab_type": "text"
      },
      "source": [
        "Click the below to see two different solutions."
      ]
    },
    {
      "cell_type": "code",
      "metadata": {
        "id": "JtcI22DjnfeT",
        "colab_type": "code",
        "cellView": "form",
        "colab": {}
      },
      "source": [
        "#@title long answer\n",
        "\n",
        "deck_long_way = []\n",
        "\n",
        "for suit in suits:\n",
        "  for rank in ranks:\n",
        "    deck_long_way.append(f'{rank}{suit}')\n",
        "\n",
        "print(deck_long_way)"
      ],
      "execution_count": 0,
      "outputs": []
    },
    {
      "cell_type": "code",
      "metadata": {
        "id": "p7scvVgFnf1T",
        "colab_type": "code",
        "cellView": "form",
        "colab": {}
      },
      "source": [
        "#@title *pythonic* answer\n",
        "\n",
        "# using list comprehension\n",
        "deck_ = [f'{rank}{suit}' for suit in suits  for rank in ranks]\n",
        "\n",
        "print('Here we use a list comprehension, which you can read more about in its section below')\n",
        "print(f'Do the `for` loops and list comprehension methods agree? {deck_ == deck_long_way}')"
      ],
      "execution_count": 0,
      "outputs": []
    },
    {
      "cell_type": "markdown",
      "metadata": {
        "id": "v5A0jVifrJ2-",
        "colab_type": "text"
      },
      "source": [
        "### Testing\n",
        "\n",
        "Now test to make sure that the deck is complete. \n",
        "\n",
        "E.g, \n",
        "* Does it have the correct length? Write a script to test that.\n",
        "* Do all the suits there appear 13 times?\n",
        "* Do all ranks apear only four times?  \n"
      ]
    },
    {
      "cell_type": "code",
      "metadata": {
        "id": "Hq5uaSP_nfSb",
        "colab_type": "code",
        "cellView": "both",
        "colab": {}
      },
      "source": [
        "print(f'length of deck is 52? {len(deck) == 52}')\n",
        "\n"
      ],
      "execution_count": 0,
      "outputs": []
    },
    {
      "cell_type": "markdown",
      "metadata": {
        "id": "aEF9hz8EySSx",
        "colab_type": "text"
      },
      "source": [
        "Lets test that all suites are in the cards. Before testing for the whole deck, let's look at a few examples using the `in` function. "
      ]
    },
    {
      "cell_type": "code",
      "metadata": {
        "id": "Abf1S2N2vH6Y",
        "colab_type": "code",
        "outputId": "2e344613-3710-441e-8588-ee7cd11b4a20",
        "colab": {
          "base_uri": "https://localhost:8080/",
          "height": 52
        }
      },
      "source": [
        "print('h' in 'Qh')\n",
        "print('c' in 'Qh')\n"
      ],
      "execution_count": 0,
      "outputs": [
        {
          "output_type": "stream",
          "text": [
            "True\n",
            "False\n"
          ],
          "name": "stdout"
        }
      ]
    },
    {
      "cell_type": "code",
      "metadata": {
        "id": "dA6_BGg7y-Nq",
        "colab_type": "code",
        "outputId": "e3bb69a4-861c-482e-a523-763fc73b3e03",
        "colab": {
          "base_uri": "https://localhost:8080/",
          "height": 35
        }
      },
      "source": [
        "# We are now ready to run this for the whole deck\n",
        "\n",
        "# First set all the counts to zero. Let's use a dictionary\n",
        "counts = {'h': 0, 'c': 0, 'd': 0, 's': 0}\n",
        "\n",
        "for suit in suits:\n",
        "  for card in deck:\n",
        "    if suit in card:\n",
        "      counts[suit] += 1\n",
        "\n",
        "counts"
      ],
      "execution_count": 0,
      "outputs": [
        {
          "output_type": "execute_result",
          "data": {
            "text/plain": [
              "{'c': 13, 'd': 13, 'h': 13, 's': 13}"
            ]
          },
          "metadata": {
            "tags": []
          },
          "execution_count": 88
        }
      ]
    },
    {
      "cell_type": "code",
      "metadata": {
        "id": "M4QwsmZLzggj",
        "colab_type": "code",
        "colab": {}
      },
      "source": [
        "# A useful way to verify that all tests are successful is using `assert`\n",
        "# If it works, try puting in the wrong value to see the warning when it doesn't work\n",
        "\n",
        "for suit, counts in counts.items():\n",
        "  assert counts == 13"
      ],
      "execution_count": 0,
      "outputs": []
    },
    {
      "cell_type": "markdown",
      "metadata": {
        "id": "5xnmK-3sz5-o",
        "colab_type": "text"
      },
      "source": [
        "Let's do the same for ranks. Each should appear 4 times. "
      ]
    },
    {
      "cell_type": "code",
      "metadata": {
        "id": "3i9BREQ_2X4C",
        "colab_type": "code",
        "colab": {}
      },
      "source": [
        "# dictionary comprehensions (similar to list comprehension but using key:value)\n",
        "counts = {rank: 0 for rank in ranks} \n",
        "\n",
        "for rank in counts.keys():\n",
        "  for card in deck:\n",
        "    if rank in card:\n",
        "      counts[rank] += 1\n",
        "\n",
        "for rank, count in counts.items():\n",
        "  assert count == 4\n"
      ],
      "execution_count": 0,
      "outputs": []
    },
    {
      "cell_type": "markdown",
      "metadata": {
        "id": "ZXcvKFO08uOV",
        "colab_type": "text"
      },
      "source": [
        "### Prettifying\n",
        "\n",
        "Let's make the deck look nice when displaying the cards."
      ]
    },
    {
      "cell_type": "code",
      "metadata": {
        "id": "A4V-ngc768VE",
        "colab_type": "code",
        "outputId": "3e5c342a-b2e3-4d17-83dc-8b1293385222",
        "colab": {
          "base_uri": "https://localhost:8080/",
          "height": 35
        }
      },
      "source": [
        "# Lastly, for the fun of it let's make the cards look pretty\n",
        "# We create a dictionary the maps each suit char to a symbol\n",
        "SUIT_CHAR_TO_SYMBOL = {'d': '♦', 'h': '♥', 'c': '♣', 's': '♠'}\n",
        "\n",
        "# And a function to map a card from its regular form to a prettier one\n",
        "def card_to_pretty(card):\n",
        "  return card[:-1] + SUIT_CHAR_TO_SYMBOL[card[-1]]\n",
        "\n",
        "card_to_pretty('Jh')"
      ],
      "execution_count": 0,
      "outputs": [
        {
          "output_type": "execute_result",
          "data": {
            "text/plain": [
              "'J♥'"
            ]
          },
          "metadata": {
            "tags": []
          },
          "execution_count": 110
        }
      ]
    },
    {
      "cell_type": "code",
      "metadata": {
        "id": "8IYem8dk8xTi",
        "colab_type": "code",
        "colab": {}
      },
      "source": [
        "print([card_to_pretty(card) for card in deck])"
      ],
      "execution_count": 0,
      "outputs": []
    },
    {
      "cell_type": "markdown",
      "metadata": {
        "id": "Lwiey1x0F62y",
        "colab_type": "text"
      },
      "source": [
        "## Deck as `list` of `Card` objects\n",
        "\n",
        "Now we will learn to make `Card` objects in what consists of one of the stregnths of the python languages: Object Oriented Programming.\n",
        "\n",
        "With time you will understand what this actually means. \n",
        "\n",
        "For now let's understand the limitations of a deck being a `list` of `str`, and how we can improve by creating `Card` objects.  \n",
        "\n",
        "\n",
        "[To Be Continued ...]"
      ]
    },
    {
      "cell_type": "markdown",
      "metadata": {
        "id": "nP1aZUlFtV-s",
        "colab_type": "text"
      },
      "source": [
        "# Useful Functions"
      ]
    },
    {
      "cell_type": "markdown",
      "metadata": {
        "id": "hhOQwMo1ljkf",
        "colab_type": "text"
      },
      "source": [
        "## `range`\n",
        "<a id='range_section'></a>"
      ]
    },
    {
      "cell_type": "markdown",
      "metadata": {
        "id": "P7uR5Uq7jQd2",
        "colab_type": "text"
      },
      "source": [
        "Note that we used `range` to create a sequence of numbers. Can you say why did `range(2, 10 + 1)` and not `range(2,10)`?\n",
        "\n",
        "What do you think `range(0,100)` will yield? Try this for yourself."
      ]
    },
    {
      "cell_type": "code",
      "metadata": {
        "id": "Qxf_MxMpc6Tw",
        "colab_type": "code",
        "colab": {}
      },
      "source": [
        "range(0, 100)"
      ],
      "execution_count": 0,
      "outputs": []
    },
    {
      "cell_type": "markdown",
      "metadata": {
        "id": "ZXVvLKhtkOWv",
        "colab_type": "text"
      },
      "source": [
        "Actually, `range` is called a *lazy* function, because it does the operation only when absolutely needed. This is useful when dealing with memory issues. So let's activate the lazy bum! "
      ]
    },
    {
      "cell_type": "code",
      "metadata": {
        "id": "moMOPh3Pjhm1",
        "colab_type": "code",
        "colab": {}
      },
      "source": [
        "# activating range in a for loop\n",
        "for value in range(0, 100):\n",
        "  if (value <= 5) | (value>=95):\n",
        "    print(value)\n",
        "    if value == 5:\n",
        "      print('.\\n.\\n.\\n.')"
      ],
      "execution_count": 0,
      "outputs": []
    },
    {
      "cell_type": "code",
      "metadata": {
        "id": "9bvS9pHYkkYu",
        "colab_type": "code",
        "colab": {}
      },
      "source": [
        "# or shorter by applying the list function as we did previously\n",
        "print(list(range(0, 100)))"
      ],
      "execution_count": 0,
      "outputs": []
    },
    {
      "cell_type": "markdown",
      "metadata": {
        "id": "--jwEDublx6_",
        "colab_type": "text"
      },
      "source": [
        "The syntax of `range` function is:  \n",
        "`range(start, stop, step)`, which is quite self explantory.  \n",
        "\n",
        "What do you think `range(40, 50, 3)` will yield?"
      ]
    },
    {
      "cell_type": "code",
      "metadata": {
        "id": "tVlZbUPNkqbL",
        "colab_type": "code",
        "colab": {}
      },
      "source": [
        "list(range(40, 50, 3))"
      ],
      "execution_count": 0,
      "outputs": []
    },
    {
      "cell_type": "code",
      "metadata": {
        "id": "x9-K3YqYmR1r",
        "colab_type": "code",
        "colab": {}
      },
      "source": [
        "# how about the other way around?\n",
        "\n",
        "list(range(50, 40, 3))"
      ],
      "execution_count": 0,
      "outputs": []
    },
    {
      "cell_type": "code",
      "metadata": {
        "id": "uxs4cRXqmTU6",
        "colab_type": "code",
        "colab": {}
      },
      "source": [
        "# Above we got an empty list!\n",
        "# To get values we actually need a negative step ...\n",
        "list(range(50, 40, -3))"
      ],
      "execution_count": 0,
      "outputs": []
    },
    {
      "cell_type": "code",
      "metadata": {
        "id": "GqbjwrOgmf5c",
        "colab_type": "code",
        "colab": {}
      },
      "source": [
        ""
      ],
      "execution_count": 0,
      "outputs": []
    },
    {
      "cell_type": "code",
      "metadata": {
        "id": "CaMM9SJD0443",
        "colab_type": "code",
        "colab": {}
      },
      "source": [
        ""
      ],
      "execution_count": 0,
      "outputs": []
    },
    {
      "cell_type": "markdown",
      "metadata": {
        "id": "_TPrTdI905gX",
        "colab_type": "text"
      },
      "source": [
        "## `map`\n",
        "The map() function executes a specified function for each item in a iterable. The item is sent to the function as a parameter.\n",
        "\n",
        "Syntax   \n",
        "```  \n",
        "map(function, iterables)\n",
        "```\n",
        "\n",
        "Let's look at the `str` function that we used above."
      ]
    },
    {
      "cell_type": "code",
      "metadata": {
        "id": "1Y-PZB9C09CF",
        "colab_type": "code",
        "outputId": "82ded748-87be-447b-ff34-7d756df65681",
        "colab": {
          "base_uri": "https://localhost:8080/",
          "height": 35
        }
      },
      "source": [
        "# We could have done\n",
        "\n",
        "ranks = list(range(2, 10 + 1)) + ['J', 'Q', 'K', 'A']\n",
        "for idx in range(len(ranks)):\n",
        "  ranks[idx] = str(ranks[idx])\n",
        "\n",
        "# but we can short hand to\n",
        "ranks = list(range(2, 10 + 1)) + ['J', 'Q', 'K', 'A']\n",
        "list(map(str, ranks))  # we use list here, too, because map is lazy"
      ],
      "execution_count": 0,
      "outputs": [
        {
          "output_type": "execute_result",
          "data": {
            "text/plain": [
              "['2', '3', '4', '5', '6', '7', '8', '9', '10', 'J', 'Q', 'K', 'A']"
            ]
          },
          "metadata": {
            "tags": []
          },
          "execution_count": 97
        }
      ]
    },
    {
      "cell_type": "markdown",
      "metadata": {
        "id": "hjadl44wtILR",
        "colab_type": "text"
      },
      "source": [
        "## list comprehension\n",
        "\n",
        "[List comprehensions](https://docs.python.org/3/tutorial/datastructures.html) provide a concise way to create lists."
      ]
    },
    {
      "cell_type": "code",
      "metadata": {
        "id": "lrj5v-nptMMl",
        "colab_type": "code",
        "outputId": "344f7428-a4fe-4f97-f1ba-804b58f51ae2",
        "colab": {
          "base_uri": "https://localhost:8080/",
          "height": 35
        }
      },
      "source": [
        "# instead of doing something long list this:\n",
        "\n",
        "squares = []\n",
        "for x in range(10):\n",
        "  squares.append(x**2)\n",
        "\n",
        "print(squares)"
      ],
      "execution_count": 0,
      "outputs": [
        {
          "output_type": "stream",
          "text": [
            "[0, 1, 4, 9, 16, 25, 36, 49, 64, 81]\n"
          ],
          "name": "stdout"
        }
      ]
    },
    {
      "cell_type": "code",
      "metadata": {
        "id": "dF9O3KJ3ts6T",
        "colab_type": "code",
        "outputId": "9f17bc4c-43ca-4202-9d66-1101cc7b2bd6",
        "colab": {
          "base_uri": "https://localhost:8080/",
          "height": 35
        }
      },
      "source": [
        "# you can do it much shorter like tis\n",
        "[x**2 for x in range(10)]"
      ],
      "execution_count": 0,
      "outputs": [
        {
          "output_type": "execute_result",
          "data": {
            "text/plain": [
              "[0, 1, 4, 9, 16, 25, 36, 49, 64, 81]"
            ]
          },
          "metadata": {
            "tags": []
          },
          "execution_count": 59
        }
      ]
    },
    {
      "cell_type": "code",
      "metadata": {
        "id": "ONsMKFV4tzJ8",
        "colab_type": "code",
        "outputId": "210b456f-10b5-4472-fb71-621e6595963e",
        "colab": {
          "base_uri": "https://localhost:8080/",
          "height": 35
        }
      },
      "source": [
        "# you can do as many for loops as you like and add if conditioning\n",
        "\n",
        "[(x, y) for x in [1,2,3] for y in [3,1,4] if x != y]"
      ],
      "execution_count": 0,
      "outputs": [
        {
          "output_type": "execute_result",
          "data": {
            "text/plain": [
              "[(1, 3), (1, 4), (2, 3), (2, 1), (2, 4), (3, 1), (3, 4)]"
            ]
          },
          "metadata": {
            "tags": []
          },
          "execution_count": 60
        }
      ]
    },
    {
      "cell_type": "code",
      "metadata": {
        "id": "iYRkBTd6uJt5",
        "colab_type": "code",
        "colab": {}
      },
      "source": [
        "# Try to write the for loop for this last calculation\n",
        "\n",
        "result = []\n",
        "for x in [1,2,3]:\n",
        "  \"\"\"\n",
        "  your code here\n",
        "  \"\"\"\n",
        "  pass"
      ],
      "execution_count": 0,
      "outputs": []
    },
    {
      "cell_type": "code",
      "metadata": {
        "id": "mdGFQt5GuYMK",
        "colab_type": "code",
        "colab": {}
      },
      "source": [
        ""
      ],
      "execution_count": 0,
      "outputs": []
    }
  ]
}